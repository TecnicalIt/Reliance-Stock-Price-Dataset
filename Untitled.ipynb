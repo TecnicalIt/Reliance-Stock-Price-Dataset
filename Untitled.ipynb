{
 "cells": [
  {
   "cell_type": "code",
   "execution_count": 1,
   "id": "65700b15",
   "metadata": {},
   "outputs": [],
   "source": [
    "import pandas as pd\n",
    "import numpy as np\n",
    "import matplotlib.pyplot as plt"
   ]
  },
  {
   "cell_type": "code",
   "execution_count": 2,
   "id": "cb0916df",
   "metadata": {},
   "outputs": [],
   "source": [
    "df = pd.read_csv(\"reliance_data.csv\")"
   ]
  },
  {
   "cell_type": "code",
   "execution_count": 3,
   "id": "e0f7dcf5",
   "metadata": {},
   "outputs": [
    {
     "data": {
      "text/html": [
       "<div>\n",
       "<style scoped>\n",
       "    .dataframe tbody tr th:only-of-type {\n",
       "        vertical-align: middle;\n",
       "    }\n",
       "\n",
       "    .dataframe tbody tr th {\n",
       "        vertical-align: top;\n",
       "    }\n",
       "\n",
       "    .dataframe thead th {\n",
       "        text-align: right;\n",
       "    }\n",
       "</style>\n",
       "<table border=\"1\" class=\"dataframe\">\n",
       "  <thead>\n",
       "    <tr style=\"text-align: right;\">\n",
       "      <th></th>\n",
       "      <th>Date</th>\n",
       "      <th>Symbol</th>\n",
       "      <th>Series</th>\n",
       "      <th>Prev Close</th>\n",
       "      <th>Open</th>\n",
       "      <th>High</th>\n",
       "      <th>Low</th>\n",
       "      <th>Last</th>\n",
       "      <th>Close</th>\n",
       "      <th>VWAP</th>\n",
       "      <th>Volume</th>\n",
       "      <th>Turnover</th>\n",
       "      <th>Trades</th>\n",
       "      <th>Deliverable Volume</th>\n",
       "      <th>%Deliverble</th>\n",
       "    </tr>\n",
       "  </thead>\n",
       "  <tbody>\n",
       "    <tr>\n",
       "      <th>0</th>\n",
       "      <td>01-01-1996</td>\n",
       "      <td>RELIANCE</td>\n",
       "      <td>EQ</td>\n",
       "      <td>204.65</td>\n",
       "      <td>205.00</td>\n",
       "      <td>206.10</td>\n",
       "      <td>203.65</td>\n",
       "      <td>NaN</td>\n",
       "      <td>205.75</td>\n",
       "      <td>205.26</td>\n",
       "      <td>3717450</td>\n",
       "      <td>7.630000e+13</td>\n",
       "      <td>NaN</td>\n",
       "      <td>NaN</td>\n",
       "      <td>NaN</td>\n",
       "    </tr>\n",
       "    <tr>\n",
       "      <th>1</th>\n",
       "      <td>02-01-1996</td>\n",
       "      <td>RELIANCE</td>\n",
       "      <td>EQ</td>\n",
       "      <td>205.75</td>\n",
       "      <td>205.25</td>\n",
       "      <td>206.25</td>\n",
       "      <td>202.65</td>\n",
       "      <td>NaN</td>\n",
       "      <td>204.15</td>\n",
       "      <td>204.13</td>\n",
       "      <td>6024650</td>\n",
       "      <td>1.230000e+14</td>\n",
       "      <td>NaN</td>\n",
       "      <td>NaN</td>\n",
       "      <td>NaN</td>\n",
       "    </tr>\n",
       "    <tr>\n",
       "      <th>2</th>\n",
       "      <td>03-01-1996</td>\n",
       "      <td>RELIANCE</td>\n",
       "      <td>EQ</td>\n",
       "      <td>204.15</td>\n",
       "      <td>207.50</td>\n",
       "      <td>216.95</td>\n",
       "      <td>205.25</td>\n",
       "      <td>NaN</td>\n",
       "      <td>205.70</td>\n",
       "      <td>207.04</td>\n",
       "      <td>7473500</td>\n",
       "      <td>1.550000e+14</td>\n",
       "      <td>NaN</td>\n",
       "      <td>NaN</td>\n",
       "      <td>NaN</td>\n",
       "    </tr>\n",
       "    <tr>\n",
       "      <th>3</th>\n",
       "      <td>04-01-1996</td>\n",
       "      <td>RELIANCE</td>\n",
       "      <td>EQ</td>\n",
       "      <td>205.70</td>\n",
       "      <td>203.75</td>\n",
       "      <td>204.40</td>\n",
       "      <td>201.05</td>\n",
       "      <td>NaN</td>\n",
       "      <td>203.80</td>\n",
       "      <td>202.47</td>\n",
       "      <td>7744000</td>\n",
       "      <td>1.570000e+14</td>\n",
       "      <td>NaN</td>\n",
       "      <td>NaN</td>\n",
       "      <td>NaN</td>\n",
       "    </tr>\n",
       "    <tr>\n",
       "      <th>4</th>\n",
       "      <td>05-01-1996</td>\n",
       "      <td>RELIANCE</td>\n",
       "      <td>EQ</td>\n",
       "      <td>203.80</td>\n",
       "      <td>203.00</td>\n",
       "      <td>203.00</td>\n",
       "      <td>200.65</td>\n",
       "      <td>NaN</td>\n",
       "      <td>202.40</td>\n",
       "      <td>202.05</td>\n",
       "      <td>5952000</td>\n",
       "      <td>1.200000e+14</td>\n",
       "      <td>NaN</td>\n",
       "      <td>NaN</td>\n",
       "      <td>NaN</td>\n",
       "    </tr>\n",
       "  </tbody>\n",
       "</table>\n",
       "</div>"
      ],
      "text/plain": [
       "         Date    Symbol Series  Prev Close    Open    High     Low  Last  \\\n",
       "0  01-01-1996  RELIANCE     EQ      204.65  205.00  206.10  203.65   NaN   \n",
       "1  02-01-1996  RELIANCE     EQ      205.75  205.25  206.25  202.65   NaN   \n",
       "2  03-01-1996  RELIANCE     EQ      204.15  207.50  216.95  205.25   NaN   \n",
       "3  04-01-1996  RELIANCE     EQ      205.70  203.75  204.40  201.05   NaN   \n",
       "4  05-01-1996  RELIANCE     EQ      203.80  203.00  203.00  200.65   NaN   \n",
       "\n",
       "    Close    VWAP   Volume      Turnover  Trades  Deliverable Volume  \\\n",
       "0  205.75  205.26  3717450  7.630000e+13     NaN                 NaN   \n",
       "1  204.15  204.13  6024650  1.230000e+14     NaN                 NaN   \n",
       "2  205.70  207.04  7473500  1.550000e+14     NaN                 NaN   \n",
       "3  203.80  202.47  7744000  1.570000e+14     NaN                 NaN   \n",
       "4  202.40  202.05  5952000  1.200000e+14     NaN                 NaN   \n",
       "\n",
       "   %Deliverble  \n",
       "0          NaN  \n",
       "1          NaN  \n",
       "2          NaN  \n",
       "3          NaN  \n",
       "4          NaN  "
      ]
     },
     "execution_count": 3,
     "metadata": {},
     "output_type": "execute_result"
    }
   ],
   "source": [
    "df.head()"
   ]
  },
  {
   "cell_type": "code",
   "execution_count": 4,
   "id": "221739ee",
   "metadata": {},
   "outputs": [
    {
     "data": {
      "text/plain": [
       "(6205, 15)"
      ]
     },
     "execution_count": 4,
     "metadata": {},
     "output_type": "execute_result"
    }
   ],
   "source": [
    "df.shape"
   ]
  },
  {
   "cell_type": "code",
   "execution_count": 5,
   "id": "8af9c42f",
   "metadata": {},
   "outputs": [
    {
     "data": {
      "text/plain": [
       "Date                     0\n",
       "Symbol                   0\n",
       "Series                   0\n",
       "Prev Close               0\n",
       "Open                     0\n",
       "High                     0\n",
       "Low                      0\n",
       "Last                   548\n",
       "Close                    0\n",
       "VWAP                     0\n",
       "Volume                   0\n",
       "Turnover                 0\n",
       "Trades                3849\n",
       "Deliverable Volume    1512\n",
       "%Deliverble           1512\n",
       "dtype: int64"
      ]
     },
     "execution_count": 5,
     "metadata": {},
     "output_type": "execute_result"
    }
   ],
   "source": [
    "df.isnull().sum()"
   ]
  },
  {
   "cell_type": "code",
   "execution_count": 6,
   "id": "3246830b",
   "metadata": {},
   "outputs": [
    {
     "data": {
      "text/plain": [
       "Date                   object\n",
       "Symbol                 object\n",
       "Series                 object\n",
       "Prev Close            float64\n",
       "Open                  float64\n",
       "High                  float64\n",
       "Low                   float64\n",
       "Last                  float64\n",
       "Close                 float64\n",
       "VWAP                  float64\n",
       "Volume                  int64\n",
       "Turnover              float64\n",
       "Trades                float64\n",
       "Deliverable Volume    float64\n",
       "%Deliverble           float64\n",
       "dtype: object"
      ]
     },
     "execution_count": 6,
     "metadata": {},
     "output_type": "execute_result"
    }
   ],
   "source": [
    "df.dtypes"
   ]
  },
  {
   "cell_type": "markdown",
   "id": "b9bb277d",
   "metadata": {},
   "source": [
    "# null valu handle"
   ]
  },
  {
   "cell_type": "code",
   "execution_count": 7,
   "id": "dede3b6d",
   "metadata": {},
   "outputs": [],
   "source": [
    "mean1 = df.Last.mean()"
   ]
  },
  {
   "cell_type": "code",
   "execution_count": 8,
   "id": "05d056a7",
   "metadata": {},
   "outputs": [
    {
     "data": {
      "text/plain": [
       "925.5969860350009"
      ]
     },
     "execution_count": 8,
     "metadata": {},
     "output_type": "execute_result"
    }
   ],
   "source": [
    "mean1"
   ]
  },
  {
   "cell_type": "code",
   "execution_count": 9,
   "id": "b4699752",
   "metadata": {},
   "outputs": [],
   "source": [
    "median1 = df.Last.median()"
   ]
  },
  {
   "cell_type": "code",
   "execution_count": 10,
   "id": "a1444889",
   "metadata": {},
   "outputs": [
    {
     "data": {
      "text/plain": [
       "892.35"
      ]
     },
     "execution_count": 10,
     "metadata": {},
     "output_type": "execute_result"
    }
   ],
   "source": [
    "median1"
   ]
  },
  {
   "cell_type": "code",
   "execution_count": 11,
   "id": "4ffe03da",
   "metadata": {},
   "outputs": [],
   "source": [
    "df[\"Last\"] = df.Last.fillna(median1)"
   ]
  },
  {
   "cell_type": "code",
   "execution_count": 12,
   "id": "0f9c5937",
   "metadata": {},
   "outputs": [
    {
     "data": {
      "text/plain": [
       "(6205,)"
      ]
     },
     "execution_count": 12,
     "metadata": {},
     "output_type": "execute_result"
    }
   ],
   "source": [
    "df[\"Last\"].shape"
   ]
  },
  {
   "cell_type": "code",
   "execution_count": 13,
   "id": "89c5e49b",
   "metadata": {},
   "outputs": [
    {
     "data": {
      "text/plain": [
       "0"
      ]
     },
     "execution_count": 13,
     "metadata": {},
     "output_type": "execute_result"
    }
   ],
   "source": [
    "df[\"Last\"].isnull().sum()"
   ]
  },
  {
   "cell_type": "code",
   "execution_count": 14,
   "id": "9dbec860",
   "metadata": {},
   "outputs": [],
   "source": [
    "mean2 = df.Trades.mean()"
   ]
  },
  {
   "cell_type": "code",
   "execution_count": 15,
   "id": "3820fcfe",
   "metadata": {},
   "outputs": [
    {
     "data": {
      "text/plain": [
       "138369.03310696094"
      ]
     },
     "execution_count": 15,
     "metadata": {},
     "output_type": "execute_result"
    }
   ],
   "source": [
    "mean2"
   ]
  },
  {
   "cell_type": "code",
   "execution_count": 16,
   "id": "743c6087",
   "metadata": {},
   "outputs": [],
   "source": [
    "median2 = df.Trades.median()"
   ]
  },
  {
   "cell_type": "code",
   "execution_count": 17,
   "id": "36464259",
   "metadata": {},
   "outputs": [
    {
     "data": {
      "text/plain": [
       "98415.5"
      ]
     },
     "execution_count": 17,
     "metadata": {},
     "output_type": "execute_result"
    }
   ],
   "source": [
    "median2"
   ]
  },
  {
   "cell_type": "code",
   "execution_count": 18,
   "id": "0ad2e5f4",
   "metadata": {},
   "outputs": [],
   "source": [
    "df[\"Trades\"] = df.Trades.fillna(mean2)"
   ]
  },
  {
   "cell_type": "code",
   "execution_count": 19,
   "id": "2fd6f663",
   "metadata": {},
   "outputs": [
    {
     "data": {
      "text/plain": [
       "(6205,)"
      ]
     },
     "execution_count": 19,
     "metadata": {},
     "output_type": "execute_result"
    }
   ],
   "source": [
    "df[\"Trades\"].shape"
   ]
  },
  {
   "cell_type": "code",
   "execution_count": 20,
   "id": "baae68ab",
   "metadata": {},
   "outputs": [
    {
     "data": {
      "text/plain": [
       "0"
      ]
     },
     "execution_count": 20,
     "metadata": {},
     "output_type": "execute_result"
    }
   ],
   "source": [
    "df[\"Trades\"].isnull().sum()"
   ]
  },
  {
   "cell_type": "code",
   "execution_count": 21,
   "id": "a09c3522",
   "metadata": {},
   "outputs": [],
   "source": [
    "df = df.rename({'Deliverable Volume':'Vol'}, axis=1)"
   ]
  },
  {
   "cell_type": "code",
   "execution_count": 22,
   "id": "d831920c",
   "metadata": {},
   "outputs": [
    {
     "data": {
      "text/html": [
       "<div>\n",
       "<style scoped>\n",
       "    .dataframe tbody tr th:only-of-type {\n",
       "        vertical-align: middle;\n",
       "    }\n",
       "\n",
       "    .dataframe tbody tr th {\n",
       "        vertical-align: top;\n",
       "    }\n",
       "\n",
       "    .dataframe thead th {\n",
       "        text-align: right;\n",
       "    }\n",
       "</style>\n",
       "<table border=\"1\" class=\"dataframe\">\n",
       "  <thead>\n",
       "    <tr style=\"text-align: right;\">\n",
       "      <th></th>\n",
       "      <th>Date</th>\n",
       "      <th>Symbol</th>\n",
       "      <th>Series</th>\n",
       "      <th>Prev Close</th>\n",
       "      <th>Open</th>\n",
       "      <th>High</th>\n",
       "      <th>Low</th>\n",
       "      <th>Last</th>\n",
       "      <th>Close</th>\n",
       "      <th>VWAP</th>\n",
       "      <th>Volume</th>\n",
       "      <th>Turnover</th>\n",
       "      <th>Trades</th>\n",
       "      <th>Vol</th>\n",
       "      <th>%Deliverble</th>\n",
       "    </tr>\n",
       "  </thead>\n",
       "  <tbody>\n",
       "    <tr>\n",
       "      <th>0</th>\n",
       "      <td>01-01-1996</td>\n",
       "      <td>RELIANCE</td>\n",
       "      <td>EQ</td>\n",
       "      <td>204.65</td>\n",
       "      <td>205.00</td>\n",
       "      <td>206.10</td>\n",
       "      <td>203.65</td>\n",
       "      <td>892.35</td>\n",
       "      <td>205.75</td>\n",
       "      <td>205.26</td>\n",
       "      <td>3717450</td>\n",
       "      <td>7.630000e+13</td>\n",
       "      <td>138369.033107</td>\n",
       "      <td>NaN</td>\n",
       "      <td>NaN</td>\n",
       "    </tr>\n",
       "    <tr>\n",
       "      <th>1</th>\n",
       "      <td>02-01-1996</td>\n",
       "      <td>RELIANCE</td>\n",
       "      <td>EQ</td>\n",
       "      <td>205.75</td>\n",
       "      <td>205.25</td>\n",
       "      <td>206.25</td>\n",
       "      <td>202.65</td>\n",
       "      <td>892.35</td>\n",
       "      <td>204.15</td>\n",
       "      <td>204.13</td>\n",
       "      <td>6024650</td>\n",
       "      <td>1.230000e+14</td>\n",
       "      <td>138369.033107</td>\n",
       "      <td>NaN</td>\n",
       "      <td>NaN</td>\n",
       "    </tr>\n",
       "    <tr>\n",
       "      <th>2</th>\n",
       "      <td>03-01-1996</td>\n",
       "      <td>RELIANCE</td>\n",
       "      <td>EQ</td>\n",
       "      <td>204.15</td>\n",
       "      <td>207.50</td>\n",
       "      <td>216.95</td>\n",
       "      <td>205.25</td>\n",
       "      <td>892.35</td>\n",
       "      <td>205.70</td>\n",
       "      <td>207.04</td>\n",
       "      <td>7473500</td>\n",
       "      <td>1.550000e+14</td>\n",
       "      <td>138369.033107</td>\n",
       "      <td>NaN</td>\n",
       "      <td>NaN</td>\n",
       "    </tr>\n",
       "    <tr>\n",
       "      <th>3</th>\n",
       "      <td>04-01-1996</td>\n",
       "      <td>RELIANCE</td>\n",
       "      <td>EQ</td>\n",
       "      <td>205.70</td>\n",
       "      <td>203.75</td>\n",
       "      <td>204.40</td>\n",
       "      <td>201.05</td>\n",
       "      <td>892.35</td>\n",
       "      <td>203.80</td>\n",
       "      <td>202.47</td>\n",
       "      <td>7744000</td>\n",
       "      <td>1.570000e+14</td>\n",
       "      <td>138369.033107</td>\n",
       "      <td>NaN</td>\n",
       "      <td>NaN</td>\n",
       "    </tr>\n",
       "    <tr>\n",
       "      <th>4</th>\n",
       "      <td>05-01-1996</td>\n",
       "      <td>RELIANCE</td>\n",
       "      <td>EQ</td>\n",
       "      <td>203.80</td>\n",
       "      <td>203.00</td>\n",
       "      <td>203.00</td>\n",
       "      <td>200.65</td>\n",
       "      <td>892.35</td>\n",
       "      <td>202.40</td>\n",
       "      <td>202.05</td>\n",
       "      <td>5952000</td>\n",
       "      <td>1.200000e+14</td>\n",
       "      <td>138369.033107</td>\n",
       "      <td>NaN</td>\n",
       "      <td>NaN</td>\n",
       "    </tr>\n",
       "  </tbody>\n",
       "</table>\n",
       "</div>"
      ],
      "text/plain": [
       "         Date    Symbol Series  Prev Close    Open    High     Low    Last  \\\n",
       "0  01-01-1996  RELIANCE     EQ      204.65  205.00  206.10  203.65  892.35   \n",
       "1  02-01-1996  RELIANCE     EQ      205.75  205.25  206.25  202.65  892.35   \n",
       "2  03-01-1996  RELIANCE     EQ      204.15  207.50  216.95  205.25  892.35   \n",
       "3  04-01-1996  RELIANCE     EQ      205.70  203.75  204.40  201.05  892.35   \n",
       "4  05-01-1996  RELIANCE     EQ      203.80  203.00  203.00  200.65  892.35   \n",
       "\n",
       "    Close    VWAP   Volume      Turnover         Trades  Vol  %Deliverble  \n",
       "0  205.75  205.26  3717450  7.630000e+13  138369.033107  NaN          NaN  \n",
       "1  204.15  204.13  6024650  1.230000e+14  138369.033107  NaN          NaN  \n",
       "2  205.70  207.04  7473500  1.550000e+14  138369.033107  NaN          NaN  \n",
       "3  203.80  202.47  7744000  1.570000e+14  138369.033107  NaN          NaN  \n",
       "4  202.40  202.05  5952000  1.200000e+14  138369.033107  NaN          NaN  "
      ]
     },
     "execution_count": 22,
     "metadata": {},
     "output_type": "execute_result"
    }
   ],
   "source": [
    "df.head()"
   ]
  },
  {
   "cell_type": "code",
   "execution_count": 23,
   "id": "6a06191f",
   "metadata": {},
   "outputs": [],
   "source": [
    "df = df.rename({'%Deliverble':'Deliverble'}, axis=1)"
   ]
  },
  {
   "cell_type": "code",
   "execution_count": 24,
   "id": "d9720ed2",
   "metadata": {},
   "outputs": [
    {
     "data": {
      "text/html": [
       "<div>\n",
       "<style scoped>\n",
       "    .dataframe tbody tr th:only-of-type {\n",
       "        vertical-align: middle;\n",
       "    }\n",
       "\n",
       "    .dataframe tbody tr th {\n",
       "        vertical-align: top;\n",
       "    }\n",
       "\n",
       "    .dataframe thead th {\n",
       "        text-align: right;\n",
       "    }\n",
       "</style>\n",
       "<table border=\"1\" class=\"dataframe\">\n",
       "  <thead>\n",
       "    <tr style=\"text-align: right;\">\n",
       "      <th></th>\n",
       "      <th>Date</th>\n",
       "      <th>Symbol</th>\n",
       "      <th>Series</th>\n",
       "      <th>Prev Close</th>\n",
       "      <th>Open</th>\n",
       "      <th>High</th>\n",
       "      <th>Low</th>\n",
       "      <th>Last</th>\n",
       "      <th>Close</th>\n",
       "      <th>VWAP</th>\n",
       "      <th>Volume</th>\n",
       "      <th>Turnover</th>\n",
       "      <th>Trades</th>\n",
       "      <th>Vol</th>\n",
       "      <th>Deliverble</th>\n",
       "    </tr>\n",
       "  </thead>\n",
       "  <tbody>\n",
       "    <tr>\n",
       "      <th>0</th>\n",
       "      <td>01-01-1996</td>\n",
       "      <td>RELIANCE</td>\n",
       "      <td>EQ</td>\n",
       "      <td>204.65</td>\n",
       "      <td>205.00</td>\n",
       "      <td>206.10</td>\n",
       "      <td>203.65</td>\n",
       "      <td>892.35</td>\n",
       "      <td>205.75</td>\n",
       "      <td>205.26</td>\n",
       "      <td>3717450</td>\n",
       "      <td>7.630000e+13</td>\n",
       "      <td>138369.033107</td>\n",
       "      <td>NaN</td>\n",
       "      <td>NaN</td>\n",
       "    </tr>\n",
       "    <tr>\n",
       "      <th>1</th>\n",
       "      <td>02-01-1996</td>\n",
       "      <td>RELIANCE</td>\n",
       "      <td>EQ</td>\n",
       "      <td>205.75</td>\n",
       "      <td>205.25</td>\n",
       "      <td>206.25</td>\n",
       "      <td>202.65</td>\n",
       "      <td>892.35</td>\n",
       "      <td>204.15</td>\n",
       "      <td>204.13</td>\n",
       "      <td>6024650</td>\n",
       "      <td>1.230000e+14</td>\n",
       "      <td>138369.033107</td>\n",
       "      <td>NaN</td>\n",
       "      <td>NaN</td>\n",
       "    </tr>\n",
       "    <tr>\n",
       "      <th>2</th>\n",
       "      <td>03-01-1996</td>\n",
       "      <td>RELIANCE</td>\n",
       "      <td>EQ</td>\n",
       "      <td>204.15</td>\n",
       "      <td>207.50</td>\n",
       "      <td>216.95</td>\n",
       "      <td>205.25</td>\n",
       "      <td>892.35</td>\n",
       "      <td>205.70</td>\n",
       "      <td>207.04</td>\n",
       "      <td>7473500</td>\n",
       "      <td>1.550000e+14</td>\n",
       "      <td>138369.033107</td>\n",
       "      <td>NaN</td>\n",
       "      <td>NaN</td>\n",
       "    </tr>\n",
       "    <tr>\n",
       "      <th>3</th>\n",
       "      <td>04-01-1996</td>\n",
       "      <td>RELIANCE</td>\n",
       "      <td>EQ</td>\n",
       "      <td>205.70</td>\n",
       "      <td>203.75</td>\n",
       "      <td>204.40</td>\n",
       "      <td>201.05</td>\n",
       "      <td>892.35</td>\n",
       "      <td>203.80</td>\n",
       "      <td>202.47</td>\n",
       "      <td>7744000</td>\n",
       "      <td>1.570000e+14</td>\n",
       "      <td>138369.033107</td>\n",
       "      <td>NaN</td>\n",
       "      <td>NaN</td>\n",
       "    </tr>\n",
       "    <tr>\n",
       "      <th>4</th>\n",
       "      <td>05-01-1996</td>\n",
       "      <td>RELIANCE</td>\n",
       "      <td>EQ</td>\n",
       "      <td>203.80</td>\n",
       "      <td>203.00</td>\n",
       "      <td>203.00</td>\n",
       "      <td>200.65</td>\n",
       "      <td>892.35</td>\n",
       "      <td>202.40</td>\n",
       "      <td>202.05</td>\n",
       "      <td>5952000</td>\n",
       "      <td>1.200000e+14</td>\n",
       "      <td>138369.033107</td>\n",
       "      <td>NaN</td>\n",
       "      <td>NaN</td>\n",
       "    </tr>\n",
       "  </tbody>\n",
       "</table>\n",
       "</div>"
      ],
      "text/plain": [
       "         Date    Symbol Series  Prev Close    Open    High     Low    Last  \\\n",
       "0  01-01-1996  RELIANCE     EQ      204.65  205.00  206.10  203.65  892.35   \n",
       "1  02-01-1996  RELIANCE     EQ      205.75  205.25  206.25  202.65  892.35   \n",
       "2  03-01-1996  RELIANCE     EQ      204.15  207.50  216.95  205.25  892.35   \n",
       "3  04-01-1996  RELIANCE     EQ      205.70  203.75  204.40  201.05  892.35   \n",
       "4  05-01-1996  RELIANCE     EQ      203.80  203.00  203.00  200.65  892.35   \n",
       "\n",
       "    Close    VWAP   Volume      Turnover         Trades  Vol  Deliverble  \n",
       "0  205.75  205.26  3717450  7.630000e+13  138369.033107  NaN         NaN  \n",
       "1  204.15  204.13  6024650  1.230000e+14  138369.033107  NaN         NaN  \n",
       "2  205.70  207.04  7473500  1.550000e+14  138369.033107  NaN         NaN  \n",
       "3  203.80  202.47  7744000  1.570000e+14  138369.033107  NaN         NaN  \n",
       "4  202.40  202.05  5952000  1.200000e+14  138369.033107  NaN         NaN  "
      ]
     },
     "execution_count": 24,
     "metadata": {},
     "output_type": "execute_result"
    }
   ],
   "source": [
    "df.head()"
   ]
  },
  {
   "cell_type": "code",
   "execution_count": 25,
   "id": "0bf8bcf4",
   "metadata": {},
   "outputs": [],
   "source": [
    "mean3 = df.Vol.mean()"
   ]
  },
  {
   "cell_type": "code",
   "execution_count": 26,
   "id": "c03c9705",
   "metadata": {},
   "outputs": [
    {
     "data": {
      "text/plain": [
       "2239901.1894310676"
      ]
     },
     "execution_count": 26,
     "metadata": {},
     "output_type": "execute_result"
    }
   ],
   "source": [
    "mean3"
   ]
  },
  {
   "cell_type": "code",
   "execution_count": 27,
   "id": "456c9162",
   "metadata": {},
   "outputs": [],
   "source": [
    "median3 = df.Vol.median()"
   ]
  },
  {
   "cell_type": "code",
   "execution_count": 28,
   "id": "91d33ccd",
   "metadata": {},
   "outputs": [
    {
     "data": {
      "text/plain": [
       "1784092.0"
      ]
     },
     "execution_count": 28,
     "metadata": {},
     "output_type": "execute_result"
    }
   ],
   "source": [
    "median3"
   ]
  },
  {
   "cell_type": "code",
   "execution_count": 29,
   "id": "b8839dee",
   "metadata": {},
   "outputs": [],
   "source": [
    "df[\"Vol\"] = df.Vol.fillna(median3)"
   ]
  },
  {
   "cell_type": "code",
   "execution_count": 30,
   "id": "09f3216d",
   "metadata": {},
   "outputs": [
    {
     "data": {
      "text/plain": [
       "0"
      ]
     },
     "execution_count": 30,
     "metadata": {},
     "output_type": "execute_result"
    }
   ],
   "source": [
    "df[\"Vol\"].isnull().sum()"
   ]
  },
  {
   "cell_type": "code",
   "execution_count": 31,
   "id": "47ae2915",
   "metadata": {},
   "outputs": [],
   "source": [
    "mean4 = df.Deliverble.mean()"
   ]
  },
  {
   "cell_type": "code",
   "execution_count": 32,
   "id": "6436dff8",
   "metadata": {},
   "outputs": [
    {
     "data": {
      "text/plain": [
       "0.4363316002557"
      ]
     },
     "execution_count": 32,
     "metadata": {},
     "output_type": "execute_result"
    }
   ],
   "source": [
    "mean4"
   ]
  },
  {
   "cell_type": "code",
   "execution_count": 33,
   "id": "e0621e0c",
   "metadata": {},
   "outputs": [],
   "source": [
    "median4 = df.Deliverble.median()"
   ]
  },
  {
   "cell_type": "code",
   "execution_count": 34,
   "id": "8ae77a00",
   "metadata": {},
   "outputs": [
    {
     "data": {
      "text/plain": [
       "0.4523"
      ]
     },
     "execution_count": 34,
     "metadata": {},
     "output_type": "execute_result"
    }
   ],
   "source": [
    "median4"
   ]
  },
  {
   "cell_type": "code",
   "execution_count": 35,
   "id": "f76b00c2",
   "metadata": {},
   "outputs": [],
   "source": [
    "df[\"Deliverble\"] = df.Deliverble.fillna(median4)"
   ]
  },
  {
   "cell_type": "code",
   "execution_count": 36,
   "id": "ea839fbe",
   "metadata": {},
   "outputs": [
    {
     "data": {
      "text/plain": [
       "0"
      ]
     },
     "execution_count": 36,
     "metadata": {},
     "output_type": "execute_result"
    }
   ],
   "source": [
    "df[\"Deliverble\"].isnull().sum()"
   ]
  },
  {
   "cell_type": "code",
   "execution_count": 37,
   "id": "736b9e62",
   "metadata": {},
   "outputs": [
    {
     "data": {
      "text/html": [
       "<div>\n",
       "<style scoped>\n",
       "    .dataframe tbody tr th:only-of-type {\n",
       "        vertical-align: middle;\n",
       "    }\n",
       "\n",
       "    .dataframe tbody tr th {\n",
       "        vertical-align: top;\n",
       "    }\n",
       "\n",
       "    .dataframe thead th {\n",
       "        text-align: right;\n",
       "    }\n",
       "</style>\n",
       "<table border=\"1\" class=\"dataframe\">\n",
       "  <thead>\n",
       "    <tr style=\"text-align: right;\">\n",
       "      <th></th>\n",
       "      <th>Date</th>\n",
       "      <th>Symbol</th>\n",
       "      <th>Series</th>\n",
       "      <th>Prev Close</th>\n",
       "      <th>Open</th>\n",
       "      <th>High</th>\n",
       "      <th>Low</th>\n",
       "      <th>Last</th>\n",
       "      <th>Close</th>\n",
       "      <th>VWAP</th>\n",
       "      <th>Volume</th>\n",
       "      <th>Turnover</th>\n",
       "      <th>Trades</th>\n",
       "      <th>Vol</th>\n",
       "      <th>Deliverble</th>\n",
       "    </tr>\n",
       "  </thead>\n",
       "  <tbody>\n",
       "    <tr>\n",
       "      <th>0</th>\n",
       "      <td>01-01-1996</td>\n",
       "      <td>RELIANCE</td>\n",
       "      <td>EQ</td>\n",
       "      <td>204.65</td>\n",
       "      <td>205.00</td>\n",
       "      <td>206.10</td>\n",
       "      <td>203.65</td>\n",
       "      <td>892.35</td>\n",
       "      <td>205.75</td>\n",
       "      <td>205.26</td>\n",
       "      <td>3717450</td>\n",
       "      <td>7.630000e+13</td>\n",
       "      <td>138369.033107</td>\n",
       "      <td>1784092.0</td>\n",
       "      <td>0.4523</td>\n",
       "    </tr>\n",
       "    <tr>\n",
       "      <th>1</th>\n",
       "      <td>02-01-1996</td>\n",
       "      <td>RELIANCE</td>\n",
       "      <td>EQ</td>\n",
       "      <td>205.75</td>\n",
       "      <td>205.25</td>\n",
       "      <td>206.25</td>\n",
       "      <td>202.65</td>\n",
       "      <td>892.35</td>\n",
       "      <td>204.15</td>\n",
       "      <td>204.13</td>\n",
       "      <td>6024650</td>\n",
       "      <td>1.230000e+14</td>\n",
       "      <td>138369.033107</td>\n",
       "      <td>1784092.0</td>\n",
       "      <td>0.4523</td>\n",
       "    </tr>\n",
       "    <tr>\n",
       "      <th>2</th>\n",
       "      <td>03-01-1996</td>\n",
       "      <td>RELIANCE</td>\n",
       "      <td>EQ</td>\n",
       "      <td>204.15</td>\n",
       "      <td>207.50</td>\n",
       "      <td>216.95</td>\n",
       "      <td>205.25</td>\n",
       "      <td>892.35</td>\n",
       "      <td>205.70</td>\n",
       "      <td>207.04</td>\n",
       "      <td>7473500</td>\n",
       "      <td>1.550000e+14</td>\n",
       "      <td>138369.033107</td>\n",
       "      <td>1784092.0</td>\n",
       "      <td>0.4523</td>\n",
       "    </tr>\n",
       "    <tr>\n",
       "      <th>3</th>\n",
       "      <td>04-01-1996</td>\n",
       "      <td>RELIANCE</td>\n",
       "      <td>EQ</td>\n",
       "      <td>205.70</td>\n",
       "      <td>203.75</td>\n",
       "      <td>204.40</td>\n",
       "      <td>201.05</td>\n",
       "      <td>892.35</td>\n",
       "      <td>203.80</td>\n",
       "      <td>202.47</td>\n",
       "      <td>7744000</td>\n",
       "      <td>1.570000e+14</td>\n",
       "      <td>138369.033107</td>\n",
       "      <td>1784092.0</td>\n",
       "      <td>0.4523</td>\n",
       "    </tr>\n",
       "    <tr>\n",
       "      <th>4</th>\n",
       "      <td>05-01-1996</td>\n",
       "      <td>RELIANCE</td>\n",
       "      <td>EQ</td>\n",
       "      <td>203.80</td>\n",
       "      <td>203.00</td>\n",
       "      <td>203.00</td>\n",
       "      <td>200.65</td>\n",
       "      <td>892.35</td>\n",
       "      <td>202.40</td>\n",
       "      <td>202.05</td>\n",
       "      <td>5952000</td>\n",
       "      <td>1.200000e+14</td>\n",
       "      <td>138369.033107</td>\n",
       "      <td>1784092.0</td>\n",
       "      <td>0.4523</td>\n",
       "    </tr>\n",
       "  </tbody>\n",
       "</table>\n",
       "</div>"
      ],
      "text/plain": [
       "         Date    Symbol Series  Prev Close    Open    High     Low    Last  \\\n",
       "0  01-01-1996  RELIANCE     EQ      204.65  205.00  206.10  203.65  892.35   \n",
       "1  02-01-1996  RELIANCE     EQ      205.75  205.25  206.25  202.65  892.35   \n",
       "2  03-01-1996  RELIANCE     EQ      204.15  207.50  216.95  205.25  892.35   \n",
       "3  04-01-1996  RELIANCE     EQ      205.70  203.75  204.40  201.05  892.35   \n",
       "4  05-01-1996  RELIANCE     EQ      203.80  203.00  203.00  200.65  892.35   \n",
       "\n",
       "    Close    VWAP   Volume      Turnover         Trades        Vol  Deliverble  \n",
       "0  205.75  205.26  3717450  7.630000e+13  138369.033107  1784092.0      0.4523  \n",
       "1  204.15  204.13  6024650  1.230000e+14  138369.033107  1784092.0      0.4523  \n",
       "2  205.70  207.04  7473500  1.550000e+14  138369.033107  1784092.0      0.4523  \n",
       "3  203.80  202.47  7744000  1.570000e+14  138369.033107  1784092.0      0.4523  \n",
       "4  202.40  202.05  5952000  1.200000e+14  138369.033107  1784092.0      0.4523  "
      ]
     },
     "execution_count": 37,
     "metadata": {},
     "output_type": "execute_result"
    }
   ],
   "source": [
    "df.head()"
   ]
  },
  {
   "cell_type": "code",
   "execution_count": 38,
   "id": "7dd322c1",
   "metadata": {},
   "outputs": [
    {
     "data": {
      "text/plain": [
       "Date          False\n",
       "Symbol        False\n",
       "Series        False\n",
       "Prev Close    False\n",
       "Open          False\n",
       "High          False\n",
       "Low           False\n",
       "Last          False\n",
       "Close         False\n",
       "VWAP          False\n",
       "Volume        False\n",
       "Turnover      False\n",
       "Trades        False\n",
       "Vol           False\n",
       "Deliverble    False\n",
       "dtype: bool"
      ]
     },
     "execution_count": 38,
     "metadata": {},
     "output_type": "execute_result"
    }
   ],
   "source": [
    "df.isnull().any()"
   ]
  },
  {
   "cell_type": "code",
   "execution_count": 39,
   "id": "62705f8d",
   "metadata": {},
   "outputs": [
    {
     "name": "stderr",
     "output_type": "stream",
     "text": [
      "C:\\Users\\LIS\\AppData\\Local\\Temp\\ipykernel_9032\\1134722465.py:1: FutureWarning: The default value of numeric_only in DataFrame.corr is deprecated. In a future version, it will default to False. Select only valid columns or specify the value of numeric_only to silence this warning.\n",
      "  df.corr()\n"
     ]
    },
    {
     "data": {
      "text/html": [
       "<div>\n",
       "<style scoped>\n",
       "    .dataframe tbody tr th:only-of-type {\n",
       "        vertical-align: middle;\n",
       "    }\n",
       "\n",
       "    .dataframe tbody tr th {\n",
       "        vertical-align: top;\n",
       "    }\n",
       "\n",
       "    .dataframe thead th {\n",
       "        text-align: right;\n",
       "    }\n",
       "</style>\n",
       "<table border=\"1\" class=\"dataframe\">\n",
       "  <thead>\n",
       "    <tr style=\"text-align: right;\">\n",
       "      <th></th>\n",
       "      <th>Prev Close</th>\n",
       "      <th>Open</th>\n",
       "      <th>High</th>\n",
       "      <th>Low</th>\n",
       "      <th>Last</th>\n",
       "      <th>Close</th>\n",
       "      <th>VWAP</th>\n",
       "      <th>Volume</th>\n",
       "      <th>Turnover</th>\n",
       "      <th>Trades</th>\n",
       "      <th>Vol</th>\n",
       "      <th>Deliverble</th>\n",
       "    </tr>\n",
       "  </thead>\n",
       "  <tbody>\n",
       "    <tr>\n",
       "      <th>Prev Close</th>\n",
       "      <td>1.000000</td>\n",
       "      <td>0.999242</td>\n",
       "      <td>0.998930</td>\n",
       "      <td>0.998841</td>\n",
       "      <td>0.947332</td>\n",
       "      <td>0.998626</td>\n",
       "      <td>0.999021</td>\n",
       "      <td>-0.061675</td>\n",
       "      <td>0.480997</td>\n",
       "      <td>0.193992</td>\n",
       "      <td>0.190259</td>\n",
       "      <td>0.085924</td>\n",
       "    </tr>\n",
       "    <tr>\n",
       "      <th>Open</th>\n",
       "      <td>0.999242</td>\n",
       "      <td>1.000000</td>\n",
       "      <td>0.999580</td>\n",
       "      <td>0.999465</td>\n",
       "      <td>0.947985</td>\n",
       "      <td>0.999152</td>\n",
       "      <td>0.999553</td>\n",
       "      <td>-0.061579</td>\n",
       "      <td>0.481540</td>\n",
       "      <td>0.195073</td>\n",
       "      <td>0.190307</td>\n",
       "      <td>0.085540</td>\n",
       "    </tr>\n",
       "    <tr>\n",
       "      <th>High</th>\n",
       "      <td>0.998930</td>\n",
       "      <td>0.999580</td>\n",
       "      <td>1.000000</td>\n",
       "      <td>0.999245</td>\n",
       "      <td>0.948744</td>\n",
       "      <td>0.999562</td>\n",
       "      <td>0.999754</td>\n",
       "      <td>-0.055612</td>\n",
       "      <td>0.485931</td>\n",
       "      <td>0.199399</td>\n",
       "      <td>0.193347</td>\n",
       "      <td>0.082010</td>\n",
       "    </tr>\n",
       "    <tr>\n",
       "      <th>Low</th>\n",
       "      <td>0.998841</td>\n",
       "      <td>0.999465</td>\n",
       "      <td>0.999245</td>\n",
       "      <td>1.000000</td>\n",
       "      <td>0.947946</td>\n",
       "      <td>0.999580</td>\n",
       "      <td>0.999754</td>\n",
       "      <td>-0.065601</td>\n",
       "      <td>0.478901</td>\n",
       "      <td>0.191927</td>\n",
       "      <td>0.187413</td>\n",
       "      <td>0.088556</td>\n",
       "    </tr>\n",
       "    <tr>\n",
       "      <th>Last</th>\n",
       "      <td>0.947332</td>\n",
       "      <td>0.947985</td>\n",
       "      <td>0.948744</td>\n",
       "      <td>0.947946</td>\n",
       "      <td>1.000000</td>\n",
       "      <td>0.948828</td>\n",
       "      <td>0.948624</td>\n",
       "      <td>0.039798</td>\n",
       "      <td>0.478973</td>\n",
       "      <td>0.207773</td>\n",
       "      <td>0.179941</td>\n",
       "      <td>0.099321</td>\n",
       "    </tr>\n",
       "    <tr>\n",
       "      <th>Close</th>\n",
       "      <td>0.998626</td>\n",
       "      <td>0.999152</td>\n",
       "      <td>0.999562</td>\n",
       "      <td>0.999580</td>\n",
       "      <td>0.948828</td>\n",
       "      <td>1.000000</td>\n",
       "      <td>0.999856</td>\n",
       "      <td>-0.060018</td>\n",
       "      <td>0.482729</td>\n",
       "      <td>0.195697</td>\n",
       "      <td>0.190148</td>\n",
       "      <td>0.084501</td>\n",
       "    </tr>\n",
       "    <tr>\n",
       "      <th>VWAP</th>\n",
       "      <td>0.999021</td>\n",
       "      <td>0.999553</td>\n",
       "      <td>0.999754</td>\n",
       "      <td>0.999754</td>\n",
       "      <td>0.948624</td>\n",
       "      <td>0.999856</td>\n",
       "      <td>1.000000</td>\n",
       "      <td>-0.060007</td>\n",
       "      <td>0.483068</td>\n",
       "      <td>0.196068</td>\n",
       "      <td>0.190344</td>\n",
       "      <td>0.084933</td>\n",
       "    </tr>\n",
       "    <tr>\n",
       "      <th>Volume</th>\n",
       "      <td>-0.061675</td>\n",
       "      <td>-0.061579</td>\n",
       "      <td>-0.055612</td>\n",
       "      <td>-0.065601</td>\n",
       "      <td>0.039798</td>\n",
       "      <td>-0.060018</td>\n",
       "      <td>-0.060007</td>\n",
       "      <td>1.000000</td>\n",
       "      <td>0.679744</td>\n",
       "      <td>0.668971</td>\n",
       "      <td>0.602693</td>\n",
       "      <td>-0.152510</td>\n",
       "    </tr>\n",
       "    <tr>\n",
       "      <th>Turnover</th>\n",
       "      <td>0.480997</td>\n",
       "      <td>0.481540</td>\n",
       "      <td>0.485931</td>\n",
       "      <td>0.478901</td>\n",
       "      <td>0.478973</td>\n",
       "      <td>0.482729</td>\n",
       "      <td>0.483068</td>\n",
       "      <td>0.679744</td>\n",
       "      <td>1.000000</td>\n",
       "      <td>0.842758</td>\n",
       "      <td>0.684659</td>\n",
       "      <td>-0.144858</td>\n",
       "    </tr>\n",
       "    <tr>\n",
       "      <th>Trades</th>\n",
       "      <td>0.193992</td>\n",
       "      <td>0.195073</td>\n",
       "      <td>0.199399</td>\n",
       "      <td>0.191927</td>\n",
       "      <td>0.207773</td>\n",
       "      <td>0.195697</td>\n",
       "      <td>0.196068</td>\n",
       "      <td>0.668971</td>\n",
       "      <td>0.842758</td>\n",
       "      <td>1.000000</td>\n",
       "      <td>0.609167</td>\n",
       "      <td>-0.284201</td>\n",
       "    </tr>\n",
       "    <tr>\n",
       "      <th>Vol</th>\n",
       "      <td>0.190259</td>\n",
       "      <td>0.190307</td>\n",
       "      <td>0.193347</td>\n",
       "      <td>0.187413</td>\n",
       "      <td>0.179941</td>\n",
       "      <td>0.190148</td>\n",
       "      <td>0.190344</td>\n",
       "      <td>0.602693</td>\n",
       "      <td>0.684659</td>\n",
       "      <td>0.609167</td>\n",
       "      <td>1.000000</td>\n",
       "      <td>0.209626</td>\n",
       "    </tr>\n",
       "    <tr>\n",
       "      <th>Deliverble</th>\n",
       "      <td>0.085924</td>\n",
       "      <td>0.085540</td>\n",
       "      <td>0.082010</td>\n",
       "      <td>0.088556</td>\n",
       "      <td>0.099321</td>\n",
       "      <td>0.084501</td>\n",
       "      <td>0.084933</td>\n",
       "      <td>-0.152510</td>\n",
       "      <td>-0.144858</td>\n",
       "      <td>-0.284201</td>\n",
       "      <td>0.209626</td>\n",
       "      <td>1.000000</td>\n",
       "    </tr>\n",
       "  </tbody>\n",
       "</table>\n",
       "</div>"
      ],
      "text/plain": [
       "            Prev Close      Open      High       Low      Last     Close  \\\n",
       "Prev Close    1.000000  0.999242  0.998930  0.998841  0.947332  0.998626   \n",
       "Open          0.999242  1.000000  0.999580  0.999465  0.947985  0.999152   \n",
       "High          0.998930  0.999580  1.000000  0.999245  0.948744  0.999562   \n",
       "Low           0.998841  0.999465  0.999245  1.000000  0.947946  0.999580   \n",
       "Last          0.947332  0.947985  0.948744  0.947946  1.000000  0.948828   \n",
       "Close         0.998626  0.999152  0.999562  0.999580  0.948828  1.000000   \n",
       "VWAP          0.999021  0.999553  0.999754  0.999754  0.948624  0.999856   \n",
       "Volume       -0.061675 -0.061579 -0.055612 -0.065601  0.039798 -0.060018   \n",
       "Turnover      0.480997  0.481540  0.485931  0.478901  0.478973  0.482729   \n",
       "Trades        0.193992  0.195073  0.199399  0.191927  0.207773  0.195697   \n",
       "Vol           0.190259  0.190307  0.193347  0.187413  0.179941  0.190148   \n",
       "Deliverble    0.085924  0.085540  0.082010  0.088556  0.099321  0.084501   \n",
       "\n",
       "                VWAP    Volume  Turnover    Trades       Vol  Deliverble  \n",
       "Prev Close  0.999021 -0.061675  0.480997  0.193992  0.190259    0.085924  \n",
       "Open        0.999553 -0.061579  0.481540  0.195073  0.190307    0.085540  \n",
       "High        0.999754 -0.055612  0.485931  0.199399  0.193347    0.082010  \n",
       "Low         0.999754 -0.065601  0.478901  0.191927  0.187413    0.088556  \n",
       "Last        0.948624  0.039798  0.478973  0.207773  0.179941    0.099321  \n",
       "Close       0.999856 -0.060018  0.482729  0.195697  0.190148    0.084501  \n",
       "VWAP        1.000000 -0.060007  0.483068  0.196068  0.190344    0.084933  \n",
       "Volume     -0.060007  1.000000  0.679744  0.668971  0.602693   -0.152510  \n",
       "Turnover    0.483068  0.679744  1.000000  0.842758  0.684659   -0.144858  \n",
       "Trades      0.196068  0.668971  0.842758  1.000000  0.609167   -0.284201  \n",
       "Vol         0.190344  0.602693  0.684659  0.609167  1.000000    0.209626  \n",
       "Deliverble  0.084933 -0.152510 -0.144858 -0.284201  0.209626    1.000000  "
      ]
     },
     "execution_count": 39,
     "metadata": {},
     "output_type": "execute_result"
    }
   ],
   "source": [
    "df.corr()"
   ]
  },
  {
   "cell_type": "code",
   "execution_count": 40,
   "id": "06217075",
   "metadata": {},
   "outputs": [],
   "source": [
    "x = df.drop(\"Close\",axis=1)"
   ]
  },
  {
   "cell_type": "code",
   "execution_count": 41,
   "id": "d3820298",
   "metadata": {},
   "outputs": [],
   "source": [
    "y =  df[\"Close\"]"
   ]
  },
  {
   "cell_type": "markdown",
   "id": "4d5db8e1",
   "metadata": {},
   "source": [
    "# Label encoder "
   ]
  },
  {
   "cell_type": "code",
   "execution_count": 42,
   "id": "2ef73345",
   "metadata": {},
   "outputs": [],
   "source": [
    "from sklearn.preprocessing import LabelEncoder"
   ]
  },
  {
   "cell_type": "code",
   "execution_count": 43,
   "id": "862ac53e",
   "metadata": {},
   "outputs": [],
   "source": [
    "object_ = LabelEncoder()"
   ]
  },
  {
   "cell_type": "code",
   "execution_count": 44,
   "id": "65ae6d9d",
   "metadata": {},
   "outputs": [
    {
     "name": "stderr",
     "output_type": "stream",
     "text": [
      "C:\\Users\\LIS\\AppData\\Local\\Temp\\ipykernel_9032\\1262435715.py:2: DeprecationWarning: Converting `np.inexact` or `np.floating` to a dtype is deprecated. The current result is `float64` which is not strictly correct.\n",
      "  if x[column].dtype == np.number:\n"
     ]
    }
   ],
   "source": [
    "for column in x.columns:\n",
    "    if x[column].dtype == np.number:\n",
    "        continue\n",
    "    x[column] =  LabelEncoder().fit_transform(x[column])"
   ]
  },
  {
   "cell_type": "code",
   "execution_count": 45,
   "id": "e0f67386",
   "metadata": {},
   "outputs": [
    {
     "data": {
      "text/html": [
       "<div>\n",
       "<style scoped>\n",
       "    .dataframe tbody tr th:only-of-type {\n",
       "        vertical-align: middle;\n",
       "    }\n",
       "\n",
       "    .dataframe tbody tr th {\n",
       "        vertical-align: top;\n",
       "    }\n",
       "\n",
       "    .dataframe thead th {\n",
       "        text-align: right;\n",
       "    }\n",
       "</style>\n",
       "<table border=\"1\" class=\"dataframe\">\n",
       "  <thead>\n",
       "    <tr style=\"text-align: right;\">\n",
       "      <th></th>\n",
       "      <th>Date</th>\n",
       "      <th>Symbol</th>\n",
       "      <th>Series</th>\n",
       "      <th>Prev Close</th>\n",
       "      <th>Open</th>\n",
       "      <th>High</th>\n",
       "      <th>Low</th>\n",
       "      <th>Last</th>\n",
       "      <th>VWAP</th>\n",
       "      <th>Volume</th>\n",
       "      <th>Turnover</th>\n",
       "      <th>Trades</th>\n",
       "      <th>Vol</th>\n",
       "      <th>Deliverble</th>\n",
       "    </tr>\n",
       "  </thead>\n",
       "  <tbody>\n",
       "    <tr>\n",
       "      <th>0</th>\n",
       "      <td>0</td>\n",
       "      <td>0</td>\n",
       "      <td>0</td>\n",
       "      <td>204.65</td>\n",
       "      <td>205.00</td>\n",
       "      <td>206.10</td>\n",
       "      <td>203.65</td>\n",
       "      <td>892.35</td>\n",
       "      <td>205.26</td>\n",
       "      <td>2289</td>\n",
       "      <td>7.630000e+13</td>\n",
       "      <td>138369.033107</td>\n",
       "      <td>1784092.0</td>\n",
       "      <td>0.4523</td>\n",
       "    </tr>\n",
       "    <tr>\n",
       "      <th>1</th>\n",
       "      <td>190</td>\n",
       "      <td>0</td>\n",
       "      <td>0</td>\n",
       "      <td>205.75</td>\n",
       "      <td>205.25</td>\n",
       "      <td>206.25</td>\n",
       "      <td>202.65</td>\n",
       "      <td>892.35</td>\n",
       "      <td>204.13</td>\n",
       "      <td>4026</td>\n",
       "      <td>1.230000e+14</td>\n",
       "      <td>138369.033107</td>\n",
       "      <td>1784092.0</td>\n",
       "      <td>0.4523</td>\n",
       "    </tr>\n",
       "    <tr>\n",
       "      <th>2</th>\n",
       "      <td>373</td>\n",
       "      <td>0</td>\n",
       "      <td>0</td>\n",
       "      <td>204.15</td>\n",
       "      <td>207.50</td>\n",
       "      <td>216.95</td>\n",
       "      <td>205.25</td>\n",
       "      <td>892.35</td>\n",
       "      <td>207.04</td>\n",
       "      <td>4709</td>\n",
       "      <td>1.550000e+14</td>\n",
       "      <td>138369.033107</td>\n",
       "      <td>1784092.0</td>\n",
       "      <td>0.4523</td>\n",
       "    </tr>\n",
       "    <tr>\n",
       "      <th>3</th>\n",
       "      <td>583</td>\n",
       "      <td>0</td>\n",
       "      <td>0</td>\n",
       "      <td>205.70</td>\n",
       "      <td>203.75</td>\n",
       "      <td>204.40</td>\n",
       "      <td>201.05</td>\n",
       "      <td>892.35</td>\n",
       "      <td>202.47</td>\n",
       "      <td>4795</td>\n",
       "      <td>1.570000e+14</td>\n",
       "      <td>138369.033107</td>\n",
       "      <td>1784092.0</td>\n",
       "      <td>0.4523</td>\n",
       "    </tr>\n",
       "    <tr>\n",
       "      <th>4</th>\n",
       "      <td>792</td>\n",
       "      <td>0</td>\n",
       "      <td>0</td>\n",
       "      <td>203.80</td>\n",
       "      <td>203.00</td>\n",
       "      <td>203.00</td>\n",
       "      <td>200.65</td>\n",
       "      <td>892.35</td>\n",
       "      <td>202.05</td>\n",
       "      <td>3989</td>\n",
       "      <td>1.200000e+14</td>\n",
       "      <td>138369.033107</td>\n",
       "      <td>1784092.0</td>\n",
       "      <td>0.4523</td>\n",
       "    </tr>\n",
       "  </tbody>\n",
       "</table>\n",
       "</div>"
      ],
      "text/plain": [
       "   Date  Symbol  Series  Prev Close    Open    High     Low    Last    VWAP  \\\n",
       "0     0       0       0      204.65  205.00  206.10  203.65  892.35  205.26   \n",
       "1   190       0       0      205.75  205.25  206.25  202.65  892.35  204.13   \n",
       "2   373       0       0      204.15  207.50  216.95  205.25  892.35  207.04   \n",
       "3   583       0       0      205.70  203.75  204.40  201.05  892.35  202.47   \n",
       "4   792       0       0      203.80  203.00  203.00  200.65  892.35  202.05   \n",
       "\n",
       "   Volume      Turnover         Trades        Vol  Deliverble  \n",
       "0    2289  7.630000e+13  138369.033107  1784092.0      0.4523  \n",
       "1    4026  1.230000e+14  138369.033107  1784092.0      0.4523  \n",
       "2    4709  1.550000e+14  138369.033107  1784092.0      0.4523  \n",
       "3    4795  1.570000e+14  138369.033107  1784092.0      0.4523  \n",
       "4    3989  1.200000e+14  138369.033107  1784092.0      0.4523  "
      ]
     },
     "execution_count": 45,
     "metadata": {},
     "output_type": "execute_result"
    }
   ],
   "source": [
    "x.head()"
   ]
  },
  {
   "cell_type": "code",
   "execution_count": 46,
   "id": "05afe23a",
   "metadata": {},
   "outputs": [],
   "source": [
    "from sklearn.ensemble import ExtraTreesRegressor"
   ]
  },
  {
   "cell_type": "code",
   "execution_count": 47,
   "id": "c9376ccd",
   "metadata": {},
   "outputs": [],
   "source": [
    "obje = ExtraTreesRegressor()"
   ]
  },
  {
   "cell_type": "code",
   "execution_count": 48,
   "id": "c476be95",
   "metadata": {},
   "outputs": [
    {
     "data": {
      "text/html": [
       "<style>#sk-container-id-1 {color: black;background-color: white;}#sk-container-id-1 pre{padding: 0;}#sk-container-id-1 div.sk-toggleable {background-color: white;}#sk-container-id-1 label.sk-toggleable__label {cursor: pointer;display: block;width: 100%;margin-bottom: 0;padding: 0.3em;box-sizing: border-box;text-align: center;}#sk-container-id-1 label.sk-toggleable__label-arrow:before {content: \"▸\";float: left;margin-right: 0.25em;color: #696969;}#sk-container-id-1 label.sk-toggleable__label-arrow:hover:before {color: black;}#sk-container-id-1 div.sk-estimator:hover label.sk-toggleable__label-arrow:before {color: black;}#sk-container-id-1 div.sk-toggleable__content {max-height: 0;max-width: 0;overflow: hidden;text-align: left;background-color: #f0f8ff;}#sk-container-id-1 div.sk-toggleable__content pre {margin: 0.2em;color: black;border-radius: 0.25em;background-color: #f0f8ff;}#sk-container-id-1 input.sk-toggleable__control:checked~div.sk-toggleable__content {max-height: 200px;max-width: 100%;overflow: auto;}#sk-container-id-1 input.sk-toggleable__control:checked~label.sk-toggleable__label-arrow:before {content: \"▾\";}#sk-container-id-1 div.sk-estimator input.sk-toggleable__control:checked~label.sk-toggleable__label {background-color: #d4ebff;}#sk-container-id-1 div.sk-label input.sk-toggleable__control:checked~label.sk-toggleable__label {background-color: #d4ebff;}#sk-container-id-1 input.sk-hidden--visually {border: 0;clip: rect(1px 1px 1px 1px);clip: rect(1px, 1px, 1px, 1px);height: 1px;margin: -1px;overflow: hidden;padding: 0;position: absolute;width: 1px;}#sk-container-id-1 div.sk-estimator {font-family: monospace;background-color: #f0f8ff;border: 1px dotted black;border-radius: 0.25em;box-sizing: border-box;margin-bottom: 0.5em;}#sk-container-id-1 div.sk-estimator:hover {background-color: #d4ebff;}#sk-container-id-1 div.sk-parallel-item::after {content: \"\";width: 100%;border-bottom: 1px solid gray;flex-grow: 1;}#sk-container-id-1 div.sk-label:hover label.sk-toggleable__label {background-color: #d4ebff;}#sk-container-id-1 div.sk-serial::before {content: \"\";position: absolute;border-left: 1px solid gray;box-sizing: border-box;top: 0;bottom: 0;left: 50%;z-index: 0;}#sk-container-id-1 div.sk-serial {display: flex;flex-direction: column;align-items: center;background-color: white;padding-right: 0.2em;padding-left: 0.2em;position: relative;}#sk-container-id-1 div.sk-item {position: relative;z-index: 1;}#sk-container-id-1 div.sk-parallel {display: flex;align-items: stretch;justify-content: center;background-color: white;position: relative;}#sk-container-id-1 div.sk-item::before, #sk-container-id-1 div.sk-parallel-item::before {content: \"\";position: absolute;border-left: 1px solid gray;box-sizing: border-box;top: 0;bottom: 0;left: 50%;z-index: -1;}#sk-container-id-1 div.sk-parallel-item {display: flex;flex-direction: column;z-index: 1;position: relative;background-color: white;}#sk-container-id-1 div.sk-parallel-item:first-child::after {align-self: flex-end;width: 50%;}#sk-container-id-1 div.sk-parallel-item:last-child::after {align-self: flex-start;width: 50%;}#sk-container-id-1 div.sk-parallel-item:only-child::after {width: 0;}#sk-container-id-1 div.sk-dashed-wrapped {border: 1px dashed gray;margin: 0 0.4em 0.5em 0.4em;box-sizing: border-box;padding-bottom: 0.4em;background-color: white;}#sk-container-id-1 div.sk-label label {font-family: monospace;font-weight: bold;display: inline-block;line-height: 1.2em;}#sk-container-id-1 div.sk-label-container {text-align: center;}#sk-container-id-1 div.sk-container {/* jupyter's `normalize.less` sets `[hidden] { display: none; }` but bootstrap.min.css set `[hidden] { display: none !important; }` so we also need the `!important` here to be able to override the default hidden behavior on the sphinx rendered scikit-learn.org. See: https://github.com/scikit-learn/scikit-learn/issues/21755 */display: inline-block !important;position: relative;}#sk-container-id-1 div.sk-text-repr-fallback {display: none;}</style><div id=\"sk-container-id-1\" class=\"sk-top-container\"><div class=\"sk-text-repr-fallback\"><pre>ExtraTreesRegressor()</pre><b>In a Jupyter environment, please rerun this cell to show the HTML representation or trust the notebook. <br />On GitHub, the HTML representation is unable to render, please try loading this page with nbviewer.org.</b></div><div class=\"sk-container\" hidden><div class=\"sk-item\"><div class=\"sk-estimator sk-toggleable\"><input class=\"sk-toggleable__control sk-hidden--visually\" id=\"sk-estimator-id-1\" type=\"checkbox\" checked><label for=\"sk-estimator-id-1\" class=\"sk-toggleable__label sk-toggleable__label-arrow\">ExtraTreesRegressor</label><div class=\"sk-toggleable__content\"><pre>ExtraTreesRegressor()</pre></div></div></div></div></div>"
      ],
      "text/plain": [
       "ExtraTreesRegressor()"
      ]
     },
     "execution_count": 48,
     "metadata": {},
     "output_type": "execute_result"
    }
   ],
   "source": [
    "obje.fit(x,y)"
   ]
  },
  {
   "cell_type": "code",
   "execution_count": 49,
   "id": "ebacd14b",
   "metadata": {},
   "outputs": [],
   "source": [
    "ver = obje.feature_importances_"
   ]
  },
  {
   "cell_type": "code",
   "execution_count": 50,
   "id": "1ccf9983",
   "metadata": {},
   "outputs": [
    {
     "data": {
      "text/plain": [
       "array([5.32498654e-06, 0.00000000e+00, 0.00000000e+00, 1.80807729e-01,\n",
       "       2.13864412e-01, 1.52049725e-01, 1.60049190e-01, 1.08504432e-01,\n",
       "       1.84688436e-01, 5.64437220e-06, 8.54764817e-06, 2.10627669e-06,\n",
       "       6.96842586e-06, 7.48398278e-06])"
      ]
     },
     "execution_count": 50,
     "metadata": {},
     "output_type": "execute_result"
    }
   ],
   "source": [
    "ver"
   ]
  },
  {
   "cell_type": "code",
   "execution_count": 51,
   "id": "b58f5287",
   "metadata": {},
   "outputs": [],
   "source": [
    "top = pd.Series(ver,index=x.columns)"
   ]
  },
  {
   "cell_type": "code",
   "execution_count": 52,
   "id": "23c23745",
   "metadata": {},
   "outputs": [
    {
     "data": {
      "text/plain": [
       "Open          0.213864\n",
       "VWAP          0.184688\n",
       "Prev Close    0.180808\n",
       "Low           0.160049\n",
       "High          0.152050\n",
       "Last          0.108504\n",
       "Turnover      0.000009\n",
       "Deliverble    0.000007\n",
       "Vol           0.000007\n",
       "Volume        0.000006\n",
       "dtype: float64"
      ]
     },
     "execution_count": 52,
     "metadata": {},
     "output_type": "execute_result"
    }
   ],
   "source": [
    "top.nlargest(10)"
   ]
  },
  {
   "cell_type": "code",
   "execution_count": 53,
   "id": "e70d0e9a",
   "metadata": {
    "scrolled": true
   },
   "outputs": [
    {
     "data": {
      "text/plain": [
       "<AxesSubplot:>"
      ]
     },
     "execution_count": 53,
     "metadata": {},
     "output_type": "execute_result"
    },
    {
     "data": {
      "image/png": "[encoded data removed]",
      "text/plain": [
       "<Figure size 640x480 with 1 Axes>"
      ]
     },
     "metadata": {},
     "output_type": "display_data"
    }
   ],
   "source": [
    "top.nlargest().plot(kind=\"barh\")"
   ]
  },
  {
   "cell_type": "code",
   "execution_count": 76,
   "id": "d4749827",
   "metadata": {
    "scrolled": true
   },
   "outputs": [
    {
     "data": {
      "text/plain": [
       "<AxesSubplot:>"
      ]
     },
     "execution_count": 76,
     "metadata": {},
     "output_type": "execute_result"
    },
    {
     "data": {
      "image/png": "[encoded data removed]",
      "text/plain": [
       "<Figure size 640x480 with 1 Axes>"
      ]
     },
     "metadata": {},
     "output_type": "display_data"
    }
   ],
   "source": [
    "top.nlargest().plot(kind=\"pie\")"
   ]
  },
  {
   "cell_type": "code",
   "execution_count": 54,
   "id": "3b3b63d7",
   "metadata": {},
   "outputs": [],
   "source": [
    "x = x.drop(\"Date\",axis=1)"
   ]
  },
  {
   "cell_type": "code",
   "execution_count": 55,
   "id": "603ae615",
   "metadata": {},
   "outputs": [],
   "source": [
    "x = x.drop(\"Symbol\",axis=1)"
   ]
  },
  {
   "cell_type": "code",
   "execution_count": 56,
   "id": "cf501baa",
   "metadata": {},
   "outputs": [],
   "source": [
    "x = x.drop(\"Series\",axis=1)"
   ]
  },
  {
   "cell_type": "code",
   "execution_count": 57,
   "id": "f67545f4",
   "metadata": {},
   "outputs": [],
   "source": [
    "x = x.drop(\"Trades\",axis=1)"
   ]
  },
  {
   "cell_type": "code",
   "execution_count": 58,
   "id": "ff649026",
   "metadata": {},
   "outputs": [],
   "source": [
    "x = x.drop(\"Deliverble\",axis=1)"
   ]
  },
  {
   "cell_type": "code",
   "execution_count": 59,
   "id": "294d7e9c",
   "metadata": {},
   "outputs": [],
   "source": [
    "x = x.drop(\"Volume\",axis=1)"
   ]
  },
  {
   "cell_type": "code",
   "execution_count": 60,
   "id": "2293b8d2",
   "metadata": {},
   "outputs": [],
   "source": [
    "x = x.drop(\"Turnover\",axis=1)"
   ]
  },
  {
   "cell_type": "code",
   "execution_count": 61,
   "id": "81621a7a",
   "metadata": {},
   "outputs": [],
   "source": [
    "x = x.drop(\"Vol\",axis=1)"
   ]
  },
  {
   "cell_type": "code",
   "execution_count": 63,
   "id": "ba346c02",
   "metadata": {},
   "outputs": [
    {
     "data": {
      "text/html": [
       "<div>\n",
       "<style scoped>\n",
       "    .dataframe tbody tr th:only-of-type {\n",
       "        vertical-align: middle;\n",
       "    }\n",
       "\n",
       "    .dataframe tbody tr th {\n",
       "        vertical-align: top;\n",
       "    }\n",
       "\n",
       "    .dataframe thead th {\n",
       "        text-align: right;\n",
       "    }\n",
       "</style>\n",
       "<table border=\"1\" class=\"dataframe\">\n",
       "  <thead>\n",
       "    <tr style=\"text-align: right;\">\n",
       "      <th></th>\n",
       "      <th>Prev Close</th>\n",
       "      <th>Open</th>\n",
       "      <th>High</th>\n",
       "      <th>Low</th>\n",
       "      <th>Last</th>\n",
       "      <th>VWAP</th>\n",
       "    </tr>\n",
       "  </thead>\n",
       "  <tbody>\n",
       "    <tr>\n",
       "      <th>0</th>\n",
       "      <td>204.65</td>\n",
       "      <td>205.00</td>\n",
       "      <td>206.10</td>\n",
       "      <td>203.65</td>\n",
       "      <td>892.35</td>\n",
       "      <td>205.26</td>\n",
       "    </tr>\n",
       "    <tr>\n",
       "      <th>1</th>\n",
       "      <td>205.75</td>\n",
       "      <td>205.25</td>\n",
       "      <td>206.25</td>\n",
       "      <td>202.65</td>\n",
       "      <td>892.35</td>\n",
       "      <td>204.13</td>\n",
       "    </tr>\n",
       "    <tr>\n",
       "      <th>2</th>\n",
       "      <td>204.15</td>\n",
       "      <td>207.50</td>\n",
       "      <td>216.95</td>\n",
       "      <td>205.25</td>\n",
       "      <td>892.35</td>\n",
       "      <td>207.04</td>\n",
       "    </tr>\n",
       "    <tr>\n",
       "      <th>3</th>\n",
       "      <td>205.70</td>\n",
       "      <td>203.75</td>\n",
       "      <td>204.40</td>\n",
       "      <td>201.05</td>\n",
       "      <td>892.35</td>\n",
       "      <td>202.47</td>\n",
       "    </tr>\n",
       "    <tr>\n",
       "      <th>4</th>\n",
       "      <td>203.80</td>\n",
       "      <td>203.00</td>\n",
       "      <td>203.00</td>\n",
       "      <td>200.65</td>\n",
       "      <td>892.35</td>\n",
       "      <td>202.05</td>\n",
       "    </tr>\n",
       "  </tbody>\n",
       "</table>\n",
       "</div>"
      ],
      "text/plain": [
       "   Prev Close    Open    High     Low    Last    VWAP\n",
       "0      204.65  205.00  206.10  203.65  892.35  205.26\n",
       "1      205.75  205.25  206.25  202.65  892.35  204.13\n",
       "2      204.15  207.50  216.95  205.25  892.35  207.04\n",
       "3      205.70  203.75  204.40  201.05  892.35  202.47\n",
       "4      203.80  203.00  203.00  200.65  892.35  202.05"
      ]
     },
     "execution_count": 63,
     "metadata": {},
     "output_type": "execute_result"
    }
   ],
   "source": [
    "x.head()"
   ]
  },
  {
   "cell_type": "code",
   "execution_count": 64,
   "id": "84892415",
   "metadata": {},
   "outputs": [],
   "source": [
    "from sklearn.preprocessing import MinMaxScaler"
   ]
  },
  {
   "cell_type": "code",
   "execution_count": 67,
   "id": "4c79b31c",
   "metadata": {},
   "outputs": [],
   "source": [
    "obj = MinMaxScaler()"
   ]
  },
  {
   "cell_type": "code",
   "execution_count": 68,
   "id": "15a8ac1c",
   "metadata": {},
   "outputs": [],
   "source": [
    "model = obj.fit_transform(x)"
   ]
  },
  {
   "cell_type": "code",
   "execution_count": 69,
   "id": "14451f6c",
   "metadata": {},
   "outputs": [
    {
     "name": "stdout",
     "output_type": "stream",
     "text": [
      "[[0.06353913 0.03204607 0.03148102 0.03420784 0.25333184 0.03340536]\n",
      " [0.06388065 0.0321243  0.031528   0.03387908 0.25333184 0.03304037]\n",
      " [0.06338389 0.03282844 0.03487971 0.03473387 0.25333184 0.03398032]\n",
      " ...\n",
      " [0.60979245 0.58753208 0.59120098 0.60577966 0.59136926 0.60312477]\n",
      " [0.60474719 0.57909808 0.58244581 0.60178519 0.59441276 0.59589265]\n",
      " [0.60623748 0.57517056 0.57965794 0.59894138 0.58912667 0.59226851]]\n"
     ]
    }
   ],
   "source": [
    "print(model)"
   ]
  },
  {
   "cell_type": "code",
   "execution_count": 70,
   "id": "0493d1df",
   "metadata": {},
   "outputs": [],
   "source": [
    "from sklearn.model_selection import train_test_split"
   ]
  },
  {
   "cell_type": "code",
   "execution_count": 71,
   "id": "a6d48b02",
   "metadata": {},
   "outputs": [],
   "source": [
    "xtrain,xtest,ytrain,ytest = train_test_split(x,y,test_size=0.25,random_state=1)"
   ]
  },
  {
   "cell_type": "code",
   "execution_count": 72,
   "id": "30d85a5c",
   "metadata": {},
   "outputs": [],
   "source": [
    "from sklearn.linear_model import LinearRegression"
   ]
  },
  {
   "cell_type": "code",
   "execution_count": 73,
   "id": "c6aa7361",
   "metadata": {},
   "outputs": [],
   "source": [
    "model_ = LinearRegression()"
   ]
  },
  {
   "cell_type": "code",
   "execution_count": 74,
   "id": "ec0e7761",
   "metadata": {},
   "outputs": [
    {
     "data": {
      "text/html": [
       "<style>#sk-container-id-2 {color: black;background-color: white;}#sk-container-id-2 pre{padding: 0;}#sk-container-id-2 div.sk-toggleable {background-color: white;}#sk-container-id-2 label.sk-toggleable__label {cursor: pointer;display: block;width: 100%;margin-bottom: 0;padding: 0.3em;box-sizing: border-box;text-align: center;}#sk-container-id-2 label.sk-toggleable__label-arrow:before {content: \"▸\";float: left;margin-right: 0.25em;color: #696969;}#sk-container-id-2 label.sk-toggleable__label-arrow:hover:before {color: black;}#sk-container-id-2 div.sk-estimator:hover label.sk-toggleable__label-arrow:before {color: black;}#sk-container-id-2 div.sk-toggleable__content {max-height: 0;max-width: 0;overflow: hidden;text-align: left;background-color: #f0f8ff;}#sk-container-id-2 div.sk-toggleable__content pre {margin: 0.2em;color: black;border-radius: 0.25em;background-color: #f0f8ff;}#sk-container-id-2 input.sk-toggleable__control:checked~div.sk-toggleable__content {max-height: 200px;max-width: 100%;overflow: auto;}#sk-container-id-2 input.sk-toggleable__control:checked~label.sk-toggleable__label-arrow:before {content: \"▾\";}#sk-container-id-2 div.sk-estimator input.sk-toggleable__control:checked~label.sk-toggleable__label {background-color: #d4ebff;}#sk-container-id-2 div.sk-label input.sk-toggleable__control:checked~label.sk-toggleable__label {background-color: #d4ebff;}#sk-container-id-2 input.sk-hidden--visually {border: 0;clip: rect(1px 1px 1px 1px);clip: rect(1px, 1px, 1px, 1px);height: 1px;margin: -1px;overflow: hidden;padding: 0;position: absolute;width: 1px;}#sk-container-id-2 div.sk-estimator {font-family: monospace;background-color: #f0f8ff;border: 1px dotted black;border-radius: 0.25em;box-sizing: border-box;margin-bottom: 0.5em;}#sk-container-id-2 div.sk-estimator:hover {background-color: #d4ebff;}#sk-container-id-2 div.sk-parallel-item::after {content: \"\";width: 100%;border-bottom: 1px solid gray;flex-grow: 1;}#sk-container-id-2 div.sk-label:hover label.sk-toggleable__label {background-color: #d4ebff;}#sk-container-id-2 div.sk-serial::before {content: \"\";position: absolute;border-left: 1px solid gray;box-sizing: border-box;top: 0;bottom: 0;left: 50%;z-index: 0;}#sk-container-id-2 div.sk-serial {display: flex;flex-direction: column;align-items: center;background-color: white;padding-right: 0.2em;padding-left: 0.2em;position: relative;}#sk-container-id-2 div.sk-item {position: relative;z-index: 1;}#sk-container-id-2 div.sk-parallel {display: flex;align-items: stretch;justify-content: center;background-color: white;position: relative;}#sk-container-id-2 div.sk-item::before, #sk-container-id-2 div.sk-parallel-item::before {content: \"\";position: absolute;border-left: 1px solid gray;box-sizing: border-box;top: 0;bottom: 0;left: 50%;z-index: -1;}#sk-container-id-2 div.sk-parallel-item {display: flex;flex-direction: column;z-index: 1;position: relative;background-color: white;}#sk-container-id-2 div.sk-parallel-item:first-child::after {align-self: flex-end;width: 50%;}#sk-container-id-2 div.sk-parallel-item:last-child::after {align-self: flex-start;width: 50%;}#sk-container-id-2 div.sk-parallel-item:only-child::after {width: 0;}#sk-container-id-2 div.sk-dashed-wrapped {border: 1px dashed gray;margin: 0 0.4em 0.5em 0.4em;box-sizing: border-box;padding-bottom: 0.4em;background-color: white;}#sk-container-id-2 div.sk-label label {font-family: monospace;font-weight: bold;display: inline-block;line-height: 1.2em;}#sk-container-id-2 div.sk-label-container {text-align: center;}#sk-container-id-2 div.sk-container {/* jupyter's `normalize.less` sets `[hidden] { display: none; }` but bootstrap.min.css set `[hidden] { display: none !important; }` so we also need the `!important` here to be able to override the default hidden behavior on the sphinx rendered scikit-learn.org. See: https://github.com/scikit-learn/scikit-learn/issues/21755 */display: inline-block !important;position: relative;}#sk-container-id-2 div.sk-text-repr-fallback {display: none;}</style><div id=\"sk-container-id-2\" class=\"sk-top-container\"><div class=\"sk-text-repr-fallback\"><pre>LinearRegression()</pre><b>In a Jupyter environment, please rerun this cell to show the HTML representation or trust the notebook. <br />On GitHub, the HTML representation is unable to render, please try loading this page with nbviewer.org.</b></div><div class=\"sk-container\" hidden><div class=\"sk-item\"><div class=\"sk-estimator sk-toggleable\"><input class=\"sk-toggleable__control sk-hidden--visually\" id=\"sk-estimator-id-2\" type=\"checkbox\" checked><label for=\"sk-estimator-id-2\" class=\"sk-toggleable__label sk-toggleable__label-arrow\">LinearRegression</label><div class=\"sk-toggleable__content\"><pre>LinearRegression()</pre></div></div></div></div></div>"
      ],
      "text/plain": [
       "LinearRegression()"
      ]
     },
     "execution_count": 74,
     "metadata": {},
     "output_type": "execute_result"
    }
   ],
   "source": [
    "model_.fit(xtrain,ytrain)"
   ]
  },
  {
   "cell_type": "code",
   "execution_count": 75,
   "id": "f0367980",
   "metadata": {},
   "outputs": [
    {
     "data": {
      "text/plain": [
       "0.9997891616870861"
      ]
     },
     "execution_count": 75,
     "metadata": {},
     "output_type": "execute_result"
    }
   ],
   "source": [
    "model_.score(xtest,ytest)"
   ]
  },
  {
   "cell_type": "code",
   "execution_count": 78,
   "id": "6d8396ec",
   "metadata": {},
   "outputs": [],
   "source": [
    "pred = model_.predict(xtest)"
   ]
  },
  {
   "cell_type": "code",
   "execution_count": 79,
   "id": "eb1995af",
   "metadata": {},
   "outputs": [
    {
     "data": {
      "text/plain": [
       "array([ 237.97622152, 1968.64795504, 1993.81658325, ...,  243.3776519 ,\n",
       "        231.21108234,  515.92540906])"
      ]
     },
     "execution_count": 79,
     "metadata": {},
     "output_type": "execute_result"
    }
   ],
   "source": [
    "pred"
   ]
  },
  {
   "cell_type": "code",
   "execution_count": 90,
   "id": "81b11322",
   "metadata": {},
   "outputs": [
    {
     "name": "stderr",
     "output_type": "stream",
     "text": [
      "C:\\Users\\LIS\\anaconda3\\envs\\machine_learning\\lib\\site-packages\\sklearn\\base.py:450: UserWarning: X does not have valid feature names, but LinearRegression was fitted with feature names\n",
      "  warnings.warn(\n"
     ]
    },
    {
     "data": {
      "text/plain": [
       "array([0.34110886])"
      ]
     },
     "execution_count": 90,
     "metadata": {},
     "output_type": "execute_result"
    }
   ],
   "source": [
    "model_.predict([[0.06,.06,.90,.35,.99,.93]])"
   ]
  }
 ],
 "metadata": {
  "kernelspec": {
   "display_name": "Python 3 (ipykernel)",
   "language": "python",
   "name": "python3"
  },
  "language_info": {
   "codemirror_mode": {
    "name": "ipython",
    "version": 3
   },
   "file_extension": ".py",
   "mimetype": "text/x-python",
   "name": "python",
   "nbconvert_exporter": "python",
   "pygments_lexer": "ipython3",
   "version": "3.9.15"
  }
 },
 "nbformat": 4,
 "nbformat_minor": 5
}
